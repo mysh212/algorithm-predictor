{
 "cells": [
  {
   "cell_type": "code",
   "execution_count": 2,
   "metadata": {},
   "outputs": [],
   "source": [
    "import pandas as pd\n",
    "from sklearn.model_selection import train_test_split"
   ]
  },
  {
   "cell_type": "code",
   "execution_count": 3,
   "metadata": {},
   "outputs": [
    {
     "name": "stdout",
     "output_type": "stream",
     "text": [
      "Training data shape: (7976, 15)\n",
      "Testing data shape: (1995, 15)\n"
     ]
    }
   ],
   "source": [
    "# Load the CSV file\n",
    "file_path = \"../data/result.csv\"  # Replace with your CSV file path\n",
    "data = pd.read_csv(file_path)\n",
    "\n",
    "# Split the data into 80% training and 20% testing\n",
    "train_data, test_data = train_test_split(data, test_size=0.2, random_state=42)\n",
    "\n",
    "# Save the splits into new CSV files (optional)\n",
    "train_data.to_csv(\"../data/train_data.csv\", index=False)\n",
    "test_data.to_csv(\"../data/test_data.csv\", index=False)\n",
    "\n",
    "# Print confirmation\n",
    "print(f\"Training data shape: {train_data.shape}\")\n",
    "print(f\"Testing data shape: {test_data.shape}\")\n"
   ]
  },
  {
   "cell_type": "code",
   "execution_count": null,
   "metadata": {},
   "outputs": [],
   "source": []
  },
  {
   "cell_type": "markdown",
   "metadata": {},
   "source": [
    "### 取statement長度前50%"
   ]
  },
  {
   "cell_type": "code",
   "execution_count": 10,
   "metadata": {},
   "outputs": [
    {
     "name": "stdout",
     "output_type": "stream",
     "text": [
      "Training data shape: (3985, 15)\n",
      "Testing data shape: (997, 15)\n"
     ]
    }
   ],
   "source": [
    "data = pd.read_csv('../data/result.csv')\n",
    "data = data.dropna(subset=['Statement'])\n",
    "data['Statement_Len'] = data['Statement'].apply(len)\n",
    "data = data[data['Statement_Len'] < 886]\n",
    "data = data.drop(columns='Statement_Len')\n",
    "\n",
    "\n",
    "# Split the data into 80% training and 20% testing\n",
    "train_data, test_data = train_test_split(data, test_size=0.2, random_state=42)\n",
    "\n",
    "# Save the splits into new CSV files (optional)\n",
    "train_data.to_csv(\"../data/50%_train_data.csv\", index=False)\n",
    "test_data.to_csv(\"../data/50%_test_data.csv\", index=False)\n",
    "\n",
    "# Print confirmation\n",
    "print(f\"Training data shape: {train_data.shape}\")\n",
    "print(f\"Testing data shape: {test_data.shape}\")"
   ]
  },
  {
   "cell_type": "code",
   "execution_count": null,
   "metadata": {},
   "outputs": [],
   "source": []
  }
 ],
 "metadata": {
  "kernelspec": {
   "display_name": "base",
   "language": "python",
   "name": "python3"
  },
  "language_info": {
   "codemirror_mode": {
    "name": "ipython",
    "version": 3
   },
   "file_extension": ".py",
   "mimetype": "text/x-python",
   "name": "python",
   "nbconvert_exporter": "python",
   "pygments_lexer": "ipython3",
   "version": "3.9.7"
  }
 },
 "nbformat": 4,
 "nbformat_minor": 2
}
